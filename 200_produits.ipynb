{
 "cells": [
  {
   "cell_type": "code",
   "execution_count": 2,
   "metadata": {},
   "outputs": [
    {
     "name": "stdout",
     "output_type": "stream",
     "text": [
      "    product_id                product_name  price design_date\n",
      "0            1                Engine Block    689  2023-05-28\n",
      "1            2                Transmission    159  2022-03-31\n",
      "2            3                  Brake Disc    189  2011-01-09\n",
      "3            4                Clutch Plate   3824  2011-05-11\n",
      "4            5                   Fuel Pump   2020  2010-03-16\n",
      "..         ...                         ...    ...         ...\n",
      "84          85         Mass Airflow Sensor   3331  2023-06-06\n",
      "85          86               Oxygen Sensor   2600  2017-12-23\n",
      "86          87    Throttle Position Sensor   1111  2018-08-23\n",
      "87          88                Knock Sensor   1138  2018-05-26\n",
      "88          89  Coolant Temperature Sensor   1651  2012-06-07\n",
      "\n",
      "[89 rows x 4 columns]\n",
      "    product_id                product_name  price design_date\n",
      "0            1                Engine Block    689  2023-05-28\n",
      "1            2                Transmission    159  2022-03-31\n",
      "2            3                  Brake Disc    189  2011-01-09\n",
      "3            4                Clutch Plate   3824  2011-05-11\n",
      "4            5                   Fuel Pump   2020  2010-03-16\n",
      "..         ...                         ...    ...         ...\n",
      "84          85         Mass Airflow Sensor   3331  2023-06-06\n",
      "85          86               Oxygen Sensor   2600  2017-12-23\n",
      "86          87    Throttle Position Sensor   1111  2018-08-23\n",
      "87          88                Knock Sensor   1138  2018-05-26\n",
      "88          89  Coolant Temperature Sensor   1651  2012-06-07\n",
      "\n",
      "[89 rows x 4 columns]\n"
     ]
    }
   ],
   "source": [
    "import random\n",
    "import pandas as pd\n",
    "from datetime import datetime, timedelta\n",
    "\n",
    "# List of product names related to the automotive industry\n",
    "product_names = [\n",
    "    'Engine Block', 'Transmission', 'Brake Disc', 'Clutch Plate', 'Fuel Pump', 'Turbocharger', \n",
    "    'Radiator', 'Alternator', 'Suspension Arm', 'Exhaust Manifold', 'Gearbox', 'Spark Plug', \n",
    "    'Oil Filter', 'Timing Belt', 'Battery', 'Air Filter', 'Headlight', 'Tail Light', \n",
    "    'Steering Wheel', 'Brake Pads', 'Fuel Injector', 'Catalytic Converter', 'Carburetor', \n",
    "    'Drive Shaft', 'Axle', 'Wheel Bearing', 'Windshield Wiper', 'Power Steering Pump', \n",
    "    'Shock Absorber', 'Fan Belt', 'Dashboard', 'Rearview Mirror', 'Side Mirror', 'Fuel Tank', \n",
    "    'Exhaust Pipe', 'Muffler', 'Radiator Fan', 'Air Conditioning Compressor', 'Throttle Body', \n",
    "    'Brake Caliper', 'Fuel Rail', 'Ignition Coil', 'Differential', 'Piston', 'Cylinder Head', \n",
    "    'Timing Chain', 'Water Pump', 'Windshield Washer Pump', 'Airbag Module', 'Seat Belt', \n",
    "    'Door Handle', 'Window Regulator', 'Parking Brake', 'Glove Box', 'Cup Holder', \n",
    "    'Headrest', 'Seat Frame', 'Fuel Cap', 'Bumper', 'Fender', 'Grille', 'Hood', 'Trunk Lid', \n",
    "    'Tailgate', 'Roof Rack', 'Spoiler', 'Side Skirt', 'Quarter Panel', 'Sunroof', 'Door Panel', \n",
    "    'Wheel Rim', 'Tire', 'Lug Nut', 'Brake Rotor', 'Control Arm', 'Strut', 'Coil Spring', \n",
    "    'Ball Joint', 'Stabilizer Bar', 'Steering Rack', 'Steering Column', 'Airbag Sensor', \n",
    "    'ABS Sensor', 'Fuel Pressure Regulator', 'Mass Airflow Sensor', 'Oxygen Sensor', \n",
    "    'Throttle Position Sensor', 'Knock Sensor', 'Coolant Temperature Sensor'\n",
    "]\n",
    "\n",
    "# Generate random prices between 1 and 5000\n",
    "prices = [random.randint(1, 5000) for _ in range(len(product_names))]\n",
    "\n",
    "# Generate random design dates between 01/01/2010 and 12/31/2023\n",
    "start_date = datetime(2010, 1, 1)\n",
    "end_date = datetime(2023, 12, 31)\n",
    "design_dates = [start_date + timedelta(days=random.randint(0, (end_date - start_date).days)) for _ in range(len(product_names))]\n",
    "\n",
    "# Create a DataFrame with the product information\n",
    "product_df = pd.DataFrame({\n",
    "    'product_id': range(1, len(product_names) + 1),\n",
    "    'product_name': product_names,\n",
    "    'price': prices,\n",
    "    'design_date': design_dates\n",
    "})\n",
    "\n",
    "# Display the DataFrame\n",
    "print(product_df)\n",
    "\n",
    "# Display the DataFrame\n",
    "print(product_df)\n",
    "\n",
    "# Optionally save to CSV\n",
    "product_df.to_csv('product_table.csv', index=False)\n"
   ]
  }
 ],
 "metadata": {
  "kernelspec": {
   "display_name": ".venv",
   "language": "python",
   "name": "python3"
  },
  "language_info": {
   "codemirror_mode": {
    "name": "ipython",
    "version": 3
   },
   "file_extension": ".py",
   "mimetype": "text/x-python",
   "name": "python",
   "nbconvert_exporter": "python",
   "pygments_lexer": "ipython3",
   "version": "3.12.3"
  }
 },
 "nbformat": 4,
 "nbformat_minor": 2
}
