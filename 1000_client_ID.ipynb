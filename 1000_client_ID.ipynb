{
 "cells": [
  {
   "cell_type": "code",
   "execution_count": 3,
   "metadata": {},
   "outputs": [
    {
     "name": "stdout",
     "output_type": "stream",
     "text": [
      "   Client_id      company_name                       adress  \\\n",
      "0          1   Ultra Mechanics  0487 Hull Village Suite 759   \n",
      "1          2    Nova Solutions           242 Christine Glen   \n",
      "2          3  Auto Innovations          1157 Michael Island   \n",
      "3          4  Hyper Industries              778 Brown Plaza   \n",
      "4          5        Hyper Cars        60975 Jessica Squares   \n",
      "\n",
      "                    country segment  \n",
      "0                Mozambique   small  \n",
      "1             Åland Islands  medium  \n",
      "2  Central African Republic  medium  \n",
      "3                     Sudan   small  \n",
      "4                   Réunion   small  \n",
      "the file client_table.csv has been created with success.\n"
     ]
    }
   ],
   "source": [
    "import pycountry\n",
    "import pandas as pd\n",
    "import random\n",
    "from faker import Faker\n",
    "\n",
    "# Initialize Faker\n",
    "fake = Faker()\n",
    "Faker.seed(0)  # Seed for reproducibility\n",
    "\n",
    "# Define parameters\n",
    "client_ids = list(range(1, 1001))  # Client IDs from 1 to 1000\n",
    "segments = ['small', 'medium', 'big']\n",
    "# Get all countries from pycountry\n",
    "countries = [country.name for country in pycountry.countries]\n",
    "\n",
    "# Extended list of prefixes and suffixes\n",
    "prefixes = [\n",
    "    'Global', 'Prime', 'Auto', 'Speed', 'Fusion', 'Dynamic', 'Elite', 'Future', 'Power', 'Turbo', \n",
    "    'Velocity', 'Quantum', 'Precision', 'Apex', 'Infinity', 'Nova', 'Pro', 'Advanced', 'Revolution', 'Titan',\n",
    "    'NextGen', 'Hyper', 'Ultra', 'Iron', 'Pinnacle', 'Mega', 'Rapid', 'Super', 'Zenith', 'Evo'\n",
    "]\n",
    "\n",
    "suffixes = [\n",
    "    'Motors', 'Automotive', 'Cars', 'Vehicles', 'Engineering', 'Manufacturing', 'Industries', 'Technologies',\n",
    "    'Dynamics', 'Machines', 'Performance', 'Solutions', 'Systems', 'Corp', 'Transport', 'Innovations', 'Tech',\n",
    "    'Works', 'Enterprises', 'Holdings', 'Trucks', 'Fleet', 'Autoworks', 'Mechanics', 'Designs', 'Developments'\n",
    "]\n",
    "\n",
    "# Generate unique company names related to the car manufacturing industry\n",
    "company_names = [f\"{random.choice(prefixes)} {random.choice(suffixes)}\" for _ in range(1000)]\n",
    "\n",
    "# Generate DataFrame\n",
    "data = {\n",
    "    'Client_id': client_ids,\n",
    "    'company_name': company_names,\n",
    "    'adress': [fake.street_address() for _ in range(1000)],  # Using street_address() for faster generation\n",
    "    'country': [random.choice(countries) for _ in range(1000)],\n",
    "    'segment': [random.choice(segments) for _ in range(1000)],\n",
    "}\n",
    "\n",
    "df = pd.DataFrame(data)\n",
    "\n",
    "# Display the first few rows\n",
    "print(df.head())\n",
    "\n",
    "\n",
    "# Save to CSV\n",
    "output_file = \"client_table.csv\"\n",
    "df.to_csv(output_file, index=False)\n",
    "print(f\"the file {output_file} has been created with success.\")\n",
    "\n"
   ]
  }
 ],
 "metadata": {
  "kernelspec": {
   "display_name": ".venv",
   "language": "python",
   "name": "python3"
  },
  "language_info": {
   "codemirror_mode": {
    "name": "ipython",
    "version": 3
   },
   "file_extension": ".py",
   "mimetype": "text/x-python",
   "name": "python",
   "nbconvert_exporter": "python",
   "pygments_lexer": "ipython3",
   "version": "3.12.3"
  }
 },
 "nbformat": 4,
 "nbformat_minor": 2
}
