{
 "cells": [
  {
   "cell_type": "code",
   "execution_count": 4,
   "metadata": {},
   "outputs": [
    {
     "name": "stdout",
     "output_type": "stream",
     "text": [
      "Collecting fastparquet\n",
      "  Downloading fastparquet-2024.5.0-cp312-cp312-win_amd64.whl.metadata (4.3 kB)\n",
      "Requirement already satisfied: pandas>=1.5.0 in c:\\1dev_projects\\rag-quickstart\\rag_quick_start_et_evaluation\\.venv\\lib\\site-packages (from fastparquet) (2.2.3)\n",
      "Requirement already satisfied: numpy in c:\\1dev_projects\\rag-quickstart\\rag_quick_start_et_evaluation\\.venv\\lib\\site-packages (from fastparquet) (1.26.4)\n",
      "Collecting cramjam>=2.3 (from fastparquet)\n",
      "  Downloading cramjam-2.9.0-cp312-none-win_amd64.whl.metadata (5.0 kB)\n",
      "Requirement already satisfied: fsspec in c:\\1dev_projects\\rag-quickstart\\rag_quick_start_et_evaluation\\.venv\\lib\\site-packages (from fastparquet) (2024.9.0)\n",
      "Requirement already satisfied: packaging in c:\\1dev_projects\\rag-quickstart\\rag_quick_start_et_evaluation\\.venv\\lib\\site-packages (from fastparquet) (24.1)\n",
      "Requirement already satisfied: python-dateutil>=2.8.2 in c:\\1dev_projects\\rag-quickstart\\rag_quick_start_et_evaluation\\.venv\\lib\\site-packages (from pandas>=1.5.0->fastparquet) (2.9.0.post0)\n",
      "Requirement already satisfied: pytz>=2020.1 in c:\\1dev_projects\\rag-quickstart\\rag_quick_start_et_evaluation\\.venv\\lib\\site-packages (from pandas>=1.5.0->fastparquet) (2024.2)\n",
      "Requirement already satisfied: tzdata>=2022.7 in c:\\1dev_projects\\rag-quickstart\\rag_quick_start_et_evaluation\\.venv\\lib\\site-packages (from pandas>=1.5.0->fastparquet) (2024.2)\n",
      "Requirement already satisfied: six>=1.5 in c:\\1dev_projects\\rag-quickstart\\rag_quick_start_et_evaluation\\.venv\\lib\\site-packages (from python-dateutil>=2.8.2->pandas>=1.5.0->fastparquet) (1.16.0)\n",
      "Downloading fastparquet-2024.5.0-cp312-cp312-win_amd64.whl (673 kB)\n",
      "   ---------------------------------------- 0.0/673.0 kB ? eta -:--:--\n",
      "   --------------------------------------- 673.0/673.0 kB 13.3 MB/s eta 0:00:00\n",
      "Downloading cramjam-2.9.0-cp312-none-win_amd64.whl (2.2 MB)\n",
      "   ---------------------------------------- 0.0/2.2 MB ? eta -:--:--\n",
      "   ---------------------------------------- 2.2/2.2 MB 30.2 MB/s eta 0:00:00\n",
      "Installing collected packages: cramjam, fastparquet\n",
      "Successfully installed cramjam-2.9.0 fastparquet-2024.5.0\n",
      "Note: you may need to restart the kernel to use updated packages.\n"
     ]
    }
   ],
   "source": [
    "pip install fastparquet"
   ]
  },
  {
   "cell_type": "code",
   "execution_count": 1,
   "metadata": {},
   "outputs": [],
   "source": [
    "import fastparquet\n",
    "import pandas as pd\n",
    "import numpy as np\n",
    "from datetime import datetime, timedelta\n",
    "import random\n",
    "\n",
    "# Paramètres\n",
    "num_rows = 1000000  # Nombre de lignes dans le DataFrame\n",
    "\n",
    "# Génération des données\n",
    "np.random.seed(0)  # Pour la reproductibilité des résultats\n",
    "\n",
    "# Génération de la date de vente (dates aléatoires entre 2022 et fin 2024)\n",
    "date_de_vente = [datetime.strptime('{} {}'.format(random.randint(1, 366), random.randint(2022, 2024)), '%j %Y')\n",
    "                 for _ in range(num_rows)]\n",
    "\n",
    "# Génération des dates de livraison (date de vente + random entre 1 et 50 jours)\n",
    "date_de_livraison = [date + timedelta(days=random.randint(1, 50)) for date in date_de_vente]\n",
    "\n",
    "# Génération des autres colonnes\n",
    "client_ID = np.random.randint(1, 1001, num_rows)\n",
    "produit = np.random.randint(1, 201, num_rows)\n",
    "salesperson = np.random.randint(1, 51, num_rows)\n",
    "sales_channel = np.random.choice(['physic', 'internet', 'phone', 'event', 'web'], num_rows)\n",
    "sales_cycle = np.random.choice(['short', 'medium', 'long'], num_rows)\n",
    "sales_complexity = np.random.choice([1, 2, 3], num_rows)\n",
    "\n",
    "# Création du DataFrame\n",
    "df = pd.DataFrame({\n",
    "    'date_de_vente': date_de_vente,\n",
    "    'date_de_livraison': date_de_livraison,\n",
    "    'client_ID': client_ID,\n",
    "    'produit': produit,\n",
    "    'salesperson': salesperson,\n",
    "    'sales_channel': sales_channel,\n",
    "    'sales_cycle': sales_cycle,\n",
    "    'sales_complexity': sales_complexity\n",
    "})\n",
    "\n",
    "# export en parquet file\n",
    "df.to_parquet('fact_table.parquet')\n",
    "\n",
    "\n",
    "\n"
   ]
  }
 ],
 "metadata": {
  "kernelspec": {
   "display_name": ".venv",
   "language": "python",
   "name": "python3"
  },
  "language_info": {
   "codemirror_mode": {
    "name": "ipython",
    "version": 3
   },
   "file_extension": ".py",
   "mimetype": "text/x-python",
   "name": "python",
   "nbconvert_exporter": "python",
   "pygments_lexer": "ipython3",
   "version": "3.12.7"
  }
 },
 "nbformat": 4,
 "nbformat_minor": 2
}
